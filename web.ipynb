{
 "cells": [
  {
   "cell_type": "markdown",
   "id": "9346159c-a9c0-44a6-a5e9-316bf9b3508d",
   "metadata": {},
   "source": [
    " **Build the Web App**"
   ]
  },
  {
   "cell_type": "code",
   "execution_count": 2,
   "id": "479b8772-f608-4e92-9bbf-826c710d3f0b",
   "metadata": {},
   "outputs": [
    {
     "name": "stdout",
     "output_type": "stream",
     "text": [
      "Writing app.py\n"
     ]
    }
   ],
   "source": [
    "%%writefile app.py\n",
    "import streamlit as st\n",
    "import pandas as pd\n",
    "import joblib\n",
    "\n",
    "# Load model\n",
    "model = joblib.load('random_forest_model.pkl') \n",
    "\n",
    "# Title\n",
    "st.title(\"Malaria Incidence Predictor\")\n",
    "\n",
    "# Input form\n",
    "year = st.number_input(\"Enter Year\", min_value=2000, max_value=2030, step=1)\n",
    "cases = st.number_input(\"Enter Previous Year Cases\")\n",
    "rainfall = st.number_input(\"Enter Rainfall Amount\")\n",
    "temperature = st.number_input(\"Enter Temperature\")\n",
    "\n",
    "# Prediction\n",
    "if st.button(\"Predict\"):\n",
    "    input_df = pd.DataFrame({\n",
    "        'Year': [year],\n",
    "        'Cases_Previous': [cases],\n",
    "        'Rainfall': [rainfall],\n",
    "        'Temperature': [temperature]\n",
    "    })\n",
    "    prediction = model.predict(input_df)\n",
    "    st.success(f\"Predicted Malaria Incidence: {prediction[0]:.2f}\")\n"
   ]
  },
  {
   "cell_type": "code",
   "execution_count": null,
   "id": "8a50f8ed-ef92-4f58-a56c-36ee48203cbf",
   "metadata": {},
   "outputs": [],
   "source": []
  }
 ],
 "metadata": {
  "kernelspec": {
   "display_name": "anaconda-panel-2023.05-py310",
   "language": "python",
   "name": "conda-env-anaconda-panel-2023.05-py310-py"
  },
  "language_info": {
   "codemirror_mode": {
    "name": "ipython",
    "version": 3
   },
   "file_extension": ".py",
   "mimetype": "text/x-python",
   "name": "python",
   "nbconvert_exporter": "python",
   "pygments_lexer": "ipython3",
   "version": "3.11.5"
  }
 },
 "nbformat": 4,
 "nbformat_minor": 5
}

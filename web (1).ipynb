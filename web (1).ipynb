{
 "cells": [
  {
   "cell_type": "markdown",
   "id": "9346159c-a9c0-44a6-a5e9-316bf9b3508d",
   "metadata": {},
   "source": [
    " **Build the Web App**"
   ]
  },
  {
   "cell_type": "code",
   "execution_count": 3,
   "id": "8a50f8ed-ef92-4f58-a56c-36ee48203cbf",
   "metadata": {},
   "outputs": [
    {
     "ename": "ModuleNotFoundError",
     "evalue": "No module named 'streamlit'",
     "output_type": "error",
     "traceback": [
      "\u001b[0;31m---------------------------------------------------------------------------\u001b[0m",
      "\u001b[0;31mModuleNotFoundError\u001b[0m                       Traceback (most recent call last)",
      "Cell \u001b[0;32mIn[3], line 1\u001b[0m\n\u001b[0;32m----> 1\u001b[0m \u001b[38;5;28;01mimport\u001b[39;00m \u001b[38;5;21;01mstreamlit\u001b[39;00m \u001b[38;5;28;01mas\u001b[39;00m \u001b[38;5;21;01mst\u001b[39;00m\n\u001b[1;32m      2\u001b[0m \u001b[38;5;28;01mimport\u001b[39;00m \u001b[38;5;21;01mpandas\u001b[39;00m \u001b[38;5;28;01mas\u001b[39;00m \u001b[38;5;21;01mpd\u001b[39;00m\n\u001b[1;32m      3\u001b[0m \u001b[38;5;28;01mimport\u001b[39;00m \u001b[38;5;21;01mjoblib\u001b[39;00m\n",
      "\u001b[0;31mModuleNotFoundError\u001b[0m: No module named 'streamlit'"
     ]
    }
   ],
   "source": [
    "import streamlit as st\n",
    "import pandas as pd\n",
    "import joblib\n",
    "\n",
    "# Load model\n",
    "model = joblib.load('random_forest_model.pkl') \n",
    "\n",
    "# Title\n",
    "st.title(\"Malaria Incidence Predictor\")\n",
    "\n",
    "# Input form\n",
    "year = st.number_input(\"Enter Year\", min_value=1990, max_value=2030, step=1)\n",
    "cases = st.number_input(\"Malaria cases reported\")\n",
    "bednets = st.number_input(\"Use of insecticide-treated bed nets (% under 5)\")\n",
    "fever_treatment = st.number_input(\"Children with fever receiving antimalarial drugs (%)\")\n",
    "ipt = st.number_input(\"IPT for pregnant women (%)\")\n",
    "water = st.number_input(\"Safe drinking water access (%)\")\n",
    "sanitation = st.number_input(\"Safe sanitation access (%)\")\n",
    "\n",
    "# Prediction\n",
    "if st.button(\"Predict\"):\n",
    "    input_df = pd.DataFrame({\n",
    "        'Use of insecticide-treated bed nets (% of under-5 population)': [bednets],\n",
    "        'Children with fever receiving antimalarial drugs (% of children under age 5 with fever)': [fever_treatment],\n",
    "        'Intermittent preventive treatment (IPT) of malaria in pregnancy (% of pregnant women)': [ipt],\n",
    "        'People using safely managed drinking water services (% of population)': [water],\n",
    "        'People using safely managed sanitation services (% of population)': [sanitation],\n",
    "        'Malaria cases reported': [cases],\n",
    "        'Year': [year]\n",
    "    })\n",
    "\n",
    "    prediction = model.predict(input_df)\n",
    "    st.success(f\"Predicted Malaria Incidence: {prediction[0]:.2f}\")\n"
   ]
  },
  {
   "cell_type": "code",
   "execution_count": null,
   "id": "6a4d35a2-392d-40b8-ba85-9dd044e3c520",
   "metadata": {},
   "outputs": [],
   "source": []
  }
 ],
 "metadata": {
  "kernelspec": {
   "display_name": "anaconda-panel-2023.05-py310",
   "language": "python",
   "name": "conda-env-anaconda-panel-2023.05-py310-py"
  },
  "language_info": {
   "codemirror_mode": {
    "name": "ipython",
    "version": 3
   },
   "file_extension": ".py",
   "mimetype": "text/x-python",
   "name": "python",
   "nbconvert_exporter": "python",
   "pygments_lexer": "ipython3",
   "version": "3.11.5"
  }
 },
 "nbformat": 4,
 "nbformat_minor": 5
}
